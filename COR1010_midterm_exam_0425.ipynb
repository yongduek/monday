{
 "cells": [
  {
   "cell_type": "markdown",
   "metadata": {},
   "source": [
    "# COR1010 Introduction to AI Programming\n",
    "\n",
    "Student Name:\n",
    "\n",
    "Student Id:"
   ]
  },
  {
   "cell_type": "code",
   "execution_count": null,
   "metadata": {},
   "outputs": [],
   "source": [
    "# Do not edit this cell.\n",
    "# Just run the cell. The two packages, numpy and matplotlib, will be installed by the command.\n",
    "# You don't have to do anything with this cell.\n",
    "# Install the two modules required for the exam.\n",
    "! pip install numpy matplotlib"
   ]
  },
  {
   "cell_type": "code",
   "execution_count": null,
   "metadata": {},
   "outputs": [],
   "source": [
    "import numpy as np \n",
    "import matplotlib.pyplot as plt "
   ]
  },
  {
   "cell_type": "markdown",
   "metadata": {},
   "source": [
    "# 1. Make a function that \n",
    "1. accepts three numbers\n",
    "2. add them all\n",
    "3. return the result of addition \n",
    "\n",
    "* The function name must be `add3`."
   ]
  },
  {
   "cell_type": "code",
   "execution_count": null,
   "metadata": {},
   "outputs": [],
   "source": [
    "def add3(a, b, c):\n",
    "    pass "
   ]
  },
  {
   "cell_type": "code",
   "execution_count": null,
   "metadata": {},
   "outputs": [],
   "source": [
    "result = add3(1, 2, 3)\n",
    "print(result, result == sum([1, 2, 3])) # if the output is False, then your function is wrong"
   ]
  },
  {
   "cell_type": "markdown",
   "metadata": {},
   "source": [
    "# 2. Plot a curve \n",
    "You are asked to draw a logistic curve\n",
    "$$\n",
    "    f(x) = L / (1 + exp( - k * (x - b)))\n",
    "$$\n",
    "where $L$, $k$, and $b$ are three parameters that determin the shape of the curve.\n",
    "* Draw the curve for $L=1$, $k=2$, $b = 1$ for the $x$ range $[-6, 6]$."
   ]
  },
  {
   "cell_type": "code",
   "execution_count": null,
   "metadata": {},
   "outputs": [],
   "source": [
    "# put your code here\n"
   ]
  },
  {
   "cell_type": "markdown",
   "metadata": {},
   "source": [
    "# 3. Find maximum\n",
    "Make a function that finds the maximum of array given.\n",
    "- Here, the array `arr` is a numpy array.\n",
    "- You are not allowed to use `arr.max()` function to find the maximum value. Use a `for` loop and `if` statement."
   ]
  },
  {
   "cell_type": "code",
   "execution_count": null,
   "metadata": {},
   "outputs": [],
   "source": [
    "def find_maximum(arr): \n",
    "    pass "
   ]
  },
  {
   "cell_type": "code",
   "execution_count": null,
   "metadata": {},
   "outputs": [],
   "source": [
    "# test of the function\n",
    "\n",
    "print(\"Maximum of [1, 2, 3, 4] is \", find_maximum([1,2,3,4])) # Should print out 4\n",
    "\n",
    "array = np.random.normal(loc=0, scale=2, size=1000)\n",
    "\n",
    "maximum = find_maximum(array)\n",
    "\n",
    "print(maximum == array.max())  # if the output is False, then your program is wrong."
   ]
  },
  {
   "cell_type": "markdown",
   "metadata": {},
   "source": [
    "# 4. Find minimum\n",
    "Make a function that finds the minimum of array given.\n",
    "- Here, the array `arr` is a numpy array.\n",
    "- You are not allowed to use `arr.min()` function to find the minimum value. Use a `for` loop and `if` statement."
   ]
  },
  {
   "cell_type": "code",
   "execution_count": null,
   "metadata": {},
   "outputs": [],
   "source": [
    "def find_minimum(arr): \n",
    "    pass "
   ]
  },
  {
   "cell_type": "code",
   "execution_count": null,
   "metadata": {},
   "outputs": [],
   "source": [
    "# test of the function\n",
    "\n",
    "print(\"Minimum of [1, 2, 3, 4] is \", find_minimum([1,2,3,4])) # Should print out 1\n",
    "\n",
    "array = np.random.normal(loc=0, scale=2, size=1000)\n",
    "\n",
    "min_value = find_minimum(array)\n",
    "\n",
    "print(min_value == array.min())  # if the output is False, then your program is wrong."
   ]
  },
  {
   "cell_type": "markdown",
   "metadata": {},
   "source": [
    "# 5. Make a program.\n",
    "```\n",
    "Use two for loops, one of them nested, to print the following 20x5 rectangle:\n",
    "* * * * * * * * * * * * * * * * * * * *\n",
    "* * * * * * * * * * * * * * * * * * * *\n",
    "* * * * * * * * * * * * * * * * * * * *\n",
    "* * * * * * * * * * * * * * * * * * * *\n",
    "* * * * * * * * * * * * * * * * * * * *\n",
    "```"
   ]
  },
  {
   "cell_type": "code",
   "execution_count": null,
   "metadata": {},
   "outputs": [],
   "source": [
    "# your python program must be in this cell\n",
    "\n"
   ]
  },
  {
   "cell_type": "markdown",
   "metadata": {},
   "source": [
    "# 6. Make a program.\n",
    "```\n",
    "Write code that will print the following:\n",
    "0 1 2 3 4 5 6 7 8 9\n",
    "0 1 2 3 4 5 6 7 8 9\n",
    "0 1 2 3 4 5 6 7 8 9\n",
    "0 1 2 3 4 5 6 7 8 9\n",
    "0 1 2 3 4 5 6 7 8 9\n",
    "0 1 2 3 4 5 6 7 8 9\n",
    "0 1 2 3 4 5 6 7 8 9\n",
    "0 1 2 3 4 5 6 7 8 9\n",
    "0 1 2 3 4 5 6 7 8 9\n",
    "0 1 2 3 4 5 6 7 8 9\n",
    "```"
   ]
  },
  {
   "cell_type": "code",
   "execution_count": null,
   "metadata": {},
   "outputs": [],
   "source": [
    "# your python program must be in this cell\n",
    "\n"
   ]
  },
  {
   "cell_type": "markdown",
   "metadata": {},
   "source": [
    "# 7. Make a program.\n",
    "```\n",
    "Write code that will print the following:\n",
    "0\n",
    "0 1\n",
    "0 1 2\n",
    "0 1 2 3\n",
    "0 1 2 3 4\n",
    "0 1 2 3 4 5\n",
    "0 1 2 3 4 5 6\n",
    "0 1 2 3 4 5 6 7\n",
    "0 1 2 3 4 5 6 7 8\n",
    "0 1 2 3 4 5 6 7 8 9\n",
    "```"
   ]
  },
  {
   "cell_type": "code",
   "execution_count": null,
   "metadata": {},
   "outputs": [],
   "source": [
    "# your python program must be in this cell\n",
    "\n"
   ]
  },
  {
   "cell_type": "markdown",
   "metadata": {},
   "source": [
    "# 8. Make a program.\n",
    "```\n",
    "Write code that will print the following (Getting the alignment is hard, at least get the numbers):\n",
    "1   2   3   4   5   6   7   8   9\n",
    "2   4   6   8  10  12  14  16  18\n",
    "3   6   9  12  15  18  21  24  27\n",
    "4   8  12  16  20  24  28  32  36\n",
    "5  10  15  20  25  30  35  40  45\n",
    "6  12  18  24  30  36  42  48  54\n",
    "7  14  21  28  35  42  49  56  63\n",
    "8  16  24  32  40  48  56  64  72\n",
    "9  18  27  36  45  54  63  72  81\n",
    "```"
   ]
  },
  {
   "cell_type": "code",
   "execution_count": null,
   "metadata": {},
   "outputs": [],
   "source": [
    "# your python program must be in this cell\n",
    "\n"
   ]
  },
  {
   "cell_type": "markdown",
   "metadata": {},
   "source": [
    "# 9. Make a program.\n",
    "```\n",
    "Write code that will print the following:\n",
    "\n",
    "                  1\n",
    "                1 2 1\n",
    "              1 2 3 2 1\n",
    "            1 2 3 4 3 2 1\n",
    "          1 2 3 4 5 4 3 2 1\n",
    "        1 2 3 4 5 6 5 4 3 2 1\n",
    "      1 2 3 4 5 6 7 6 5 4 3 2 1\n",
    "    1 2 3 4 5 6 7 8 7 6 5 4 3 2 1\n",
    "  1 2 3 4 5 6 7 8 9 8 7 6 5 4 3 2 1\n",
    "\n",
    "Tip, first write code to print:\n",
    "\n",
    "1\n",
    "1 2\n",
    "1 2 3\n",
    "1 2 3 4\n",
    "1 2 3 4 5\n",
    "1 2 3 4 5 6\n",
    "1 2 3 4 5 6 7\n",
    "1 2 3 4 5 6 7 8\n",
    "1 2 3 4 5 6 7 8 9\n",
    "\n",
    "Then write code to print:\n",
    "\n",
    "1\n",
    "1 2 1\n",
    "1 2 3 2 1\n",
    "1 2 3 4 3 2 1\n",
    "1 2 3 4 5 4 3 2 1\n",
    "1 2 3 4 5 6 5 4 3 2 1\n",
    "1 2 3 4 5 6 7 6 5 4 3 2 1\n",
    "1 2 3 4 5 6 7 8 7 6 5 4 3 2 1\n",
    "1 2 3 4 5 6 7 8 9 8 7 6 5 4 3 2 1\n",
    "  \n",
    "Then finish by adding spaces to print the final answer.\n",
    "```"
   ]
  },
  {
   "cell_type": "code",
   "execution_count": null,
   "metadata": {},
   "outputs": [],
   "source": [
    "# your python program must be in this cell\n",
    "\n"
   ]
  },
  {
   "cell_type": "markdown",
   "metadata": {},
   "source": [
    "# 10. Unique letters in a string\n",
    "\n",
    "You are given a string below.\n",
    "* Make a python program that finds and returns a list of unique letters of the input string."
   ]
  },
  {
   "cell_type": "code",
   "execution_count": null,
   "metadata": {},
   "outputs": [],
   "source": [
    "def find_unique_letters(string):\n",
    "    uniques = []\n",
    "    # your code here\n",
    "\n",
    "    #\n",
    "    return uniques"
   ]
  },
  {
   "cell_type": "code",
   "execution_count": null,
   "metadata": {},
   "outputs": [],
   "source": [
    "string = \"My Life as a Dog (Swedish: Mitt liv som hund) is a Swedish drama film which was released to cinemas in Sweden on 12 December 1985,[2] directed by Lasse Hallström\"\n",
    "\n",
    "uniqueLetters = find_unique_letters(string)\n",
    "\n",
    "print(uniqueLetters) # You can at least visually check the result."
   ]
  },
  {
   "cell_type": "markdown",
   "metadata": {},
   "source": [
    "# 11. Make a program that counts the letter 'o'."
   ]
  },
  {
   "cell_type": "code",
   "execution_count": null,
   "metadata": {},
   "outputs": [],
   "source": [
    "# 11. Make a program that counts letter 'o'.\n",
    "\n",
    "def count_o(string): # How many 'o' characters in the string?\n",
    "    count = 0\n",
    "    # your program must come here\n",
    "\n",
    "    #\n",
    "    return count "
   ]
  },
  {
   "cell_type": "code",
   "execution_count": null,
   "metadata": {},
   "outputs": [],
   "source": [
    "# A string for testing\n",
    "# We can use triple quotation to define a long string in several lines as below.\n",
    "# Do not edit.\n",
    "string_the_waste_land = '''April is the cruellest month, breeding\n",
    "Lilacs out of the dead land, mixing\n",
    "Memory and desire, stirring\n",
    "Dull roots with spring rain.'''\n",
    "\n",
    "print(string_the_waste_land)"
   ]
  },
  {
   "cell_type": "code",
   "execution_count": null,
   "metadata": {},
   "outputs": [],
   "source": [
    "# Test your program!\n",
    "num_o = count_o (string_the_waste_land)\n",
    "print(f\"How many do I see 'o' in the string? The answer is {num_o}.\") # How many ?"
   ]
  },
  {
   "cell_type": "markdown",
   "metadata": {},
   "source": [
    "# 12. Make a program that counts.\n",
    "The input array contains several integer numbers. Here you are simply asked to make a python program that automatically examine the number of 7's in the array."
   ]
  },
  {
   "cell_type": "code",
   "execution_count": null,
   "metadata": {},
   "outputs": [],
   "source": [
    "def count_7s(input_array):\n",
    "    count = 0\n",
    "    # your program here\n",
    "\n",
    "    return count"
   ]
  },
  {
   "cell_type": "code",
   "execution_count": null,
   "metadata": {},
   "outputs": [],
   "source": [
    "input_array = np.array([3, 7, 3, 6, 5, 0, 7, 4, 0, 3, 4, 4, 0, 3, 0, 0, 7, 0, 9, 1])\n",
    "print(\"input_array = \", input_array)\n",
    "\n",
    "found_7 = count_7s(input_array)\n",
    "print(\"How many 7s do I have? The answer is \", found_7) # do you see 3?"
   ]
  },
  {
   "cell_type": "markdown",
   "metadata": {},
   "source": [
    "# 13. Sum of all the numbers in the array\n",
    "Yes, make a function that returns the sum of all the numbers."
   ]
  },
  {
   "cell_type": "code",
   "execution_count": null,
   "metadata": {},
   "outputs": [],
   "source": [
    "def sum_all (array):\n",
    "    sum_result = 0\n",
    "    # your code here\n",
    "\n",
    "    #\n",
    "    return sum_result"
   ]
  },
  {
   "cell_type": "code",
   "execution_count": null,
   "metadata": {},
   "outputs": [],
   "source": [
    "numbers = np.random.normal(loc=0, scale=10, size=500)\n",
    "print(\"Let's see three of the numbers:\", numbers[:3])\n",
    "\n",
    "total = sum_all(numbers)\n",
    "print(\"The total is \", total)\n",
    "print(\"This is correct? \", total == sum(numbers))  "
   ]
  },
  {
   "cell_type": "markdown",
   "metadata": {},
   "source": [
    "# 14. Average of numbers\n",
    "Now you are to define a function that computes the average of the array. Sometimes, it is also called sample average or sample mean."
   ]
  },
  {
   "cell_type": "code",
   "execution_count": null,
   "metadata": {},
   "outputs": [],
   "source": [
    "def compute_average(array):\n",
    "    total = 0\n",
    "    average = 0\n",
    "    # your code here\n",
    "\n",
    "    # \n",
    "    return average "
   ]
  },
  {
   "cell_type": "code",
   "execution_count": null,
   "metadata": {},
   "outputs": [],
   "source": [
    "numbers = np.random.randint(low=-5, high=7, size=17)\n",
    "\n",
    "print(\"Numbers: \", numbers)\n",
    "print(\"How many numbers are there in the array? It is \", numbers.size)\n",
    "\n",
    "avg = compute_average(numbers)\n",
    "\n",
    "print(\"The average of them is \", avg)\n",
    "print(\"This should be almost the same as:\", numbers.mean())"
   ]
  },
  {
   "cell_type": "markdown",
   "metadata": {},
   "source": [
    "End."
   ]
  }
 ],
 "metadata": {
  "kernelspec": {
   "display_name": "Python 3",
   "language": "python",
   "name": "python3"
  },
  "language_info": {
   "codemirror_mode": {
    "name": "ipython",
    "version": 3
   },
   "file_extension": ".py",
   "mimetype": "text/x-python",
   "name": "python",
   "nbconvert_exporter": "python",
   "pygments_lexer": "ipython3",
   "version": "3.9.11"
  }
 },
 "nbformat": 4,
 "nbformat_minor": 2
}
